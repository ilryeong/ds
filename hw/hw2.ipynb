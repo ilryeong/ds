{
 "cells": [
  {
   "cell_type": "code",
   "execution_count": 1,
   "id": "15e928f4-e331-4140-a616-701eda3d31c6",
   "metadata": {},
   "outputs": [],
   "source": [
    "subjects = [\"physics\", \"calculus\", \"poetry\", \"history\"]"
   ]
  },
  {
   "cell_type": "code",
   "execution_count": 2,
   "id": "1e653e96-c462-47b6-844f-c3c977b6bf9e",
   "metadata": {
    "tags": []
   },
   "outputs": [],
   "source": [
    "grades = [98, 97, 85, 88]"
   ]
  },
  {
   "cell_type": "code",
   "execution_count": 3,
   "id": "49bd29c9-f7e5-4077-8c6d-9c27df678bf1",
   "metadata": {
    "tags": []
   },
   "outputs": [
    {
     "name": "stdout",
     "output_type": "stream",
     "text": [
      "[['physics', 98], ['calculus', 97], ['poetry', 85], ['history', 88]]\n"
     ]
    }
   ],
   "source": [
    "gradebook = []\n",
    "for i in range(len(subjects)):\n",
    "    gradebook += [[subjects[i], grades[i]]]\n",
    "print(gradebook)"
   ]
  },
  {
   "cell_type": "code",
   "execution_count": 4,
   "id": "8470b678-2577-4104-b7f6-d479ed445c95",
   "metadata": {
    "tags": []
   },
   "outputs": [],
   "source": [
    "gradebook.append([\"computer science\", 100])"
   ]
  },
  {
   "cell_type": "code",
   "execution_count": 5,
   "id": "204092da-3cc5-43a9-a345-bca5ec81e52b",
   "metadata": {
    "tags": []
   },
   "outputs": [],
   "source": [
    "gradebook.append([\"visual arts\", 93])"
   ]
  },
  {
   "cell_type": "code",
   "execution_count": 6,
   "id": "96cd313d-b18e-4d40-8bdf-9a86da5326b3",
   "metadata": {},
   "outputs": [
    {
     "name": "stdout",
     "output_type": "stream",
     "text": [
      "[['physics', 98], ['calculus', 97], ['poetry', 85], ['history', 88], ['computer science', 100], ['visual arts', 93]]\n"
     ]
    }
   ],
   "source": [
    "print(gradebook)"
   ]
  },
  {
   "cell_type": "code",
   "execution_count": 7,
   "id": "11cca367-e9cb-4bdc-a6da-b86d5f834b2e",
   "metadata": {
    "tags": []
   },
   "outputs": [],
   "source": [
    "for i in gradebook:\n",
    "    if i[0] == \"visual arts\":\n",
    "        i[1] += 5"
   ]
  },
  {
   "cell_type": "code",
   "execution_count": 8,
   "id": "154ceef0-ccb5-4cdb-8398-be1bbc70510f",
   "metadata": {
    "tags": []
   },
   "outputs": [
    {
     "name": "stdout",
     "output_type": "stream",
     "text": [
      "[['physics', 98], ['calculus', 97], ['poetry', 85], ['history', 88], ['computer science', 100], ['visual arts', 98]]\n"
     ]
    }
   ],
   "source": [
    "print(gradebook)"
   ]
  },
  {
   "cell_type": "code",
   "execution_count": 9,
   "id": "7beb537b-1b26-49d6-ac2e-d65b4b4216cb",
   "metadata": {
    "tags": []
   },
   "outputs": [],
   "source": [
    "idx = None\n",
    "for i, subject in enumerate(gradebook):\n",
    "    if subject[0]  == \"poetry\":\n",
    "        idx = i\n",
    "gradebook[idx].remove(85)\n",
    "gradebook[idx].append(\"pass\")"
   ]
  },
  {
   "cell_type": "code",
   "execution_count": 10,
   "id": "fe54c809-624d-4e9a-ac4b-207789c3d2e4",
   "metadata": {
    "tags": []
   },
   "outputs": [
    {
     "name": "stdout",
     "output_type": "stream",
     "text": [
      "[['physics', 98], ['calculus', 97], ['poetry', 'pass'], ['history', 88], ['computer science', 100], ['visual arts', 98]]\n"
     ]
    }
   ],
   "source": [
    "print(gradebook)"
   ]
  },
  {
   "cell_type": "code",
   "execution_count": 11,
   "id": "d620d4d1-d69a-489d-b96a-9e376fa5a25b",
   "metadata": {
    "tags": []
   },
   "outputs": [],
   "source": [
    "last_semester_gradebook = [[\"politics\", 80], [\"latin\", 96], [\"dance\", 97], [\"architecture\", 65]]\n",
    "\n",
    "full_gradebook = last_semester_gradebook + gradebook"
   ]
  },
  {
   "cell_type": "code",
   "execution_count": 12,
   "id": "3cab8fcb-69b1-4d65-9bc1-27b7ed491885",
   "metadata": {
    "tags": []
   },
   "outputs": [
    {
     "name": "stdout",
     "output_type": "stream",
     "text": [
      "[['politics', 80], ['latin', 96], ['dance', 97], ['architecture', 65], ['physics', 98], ['calculus', 97], ['poetry', 'pass'], ['history', 88], ['computer science', 100], ['visual arts', 98]]\n"
     ]
    }
   ],
   "source": [
    "print(full_gradebook)"
   ]
  }
 ],
 "metadata": {
  "kernelspec": {
   "display_name": "Python 3 (ipykernel)",
   "language": "python",
   "name": "python3"
  },
  "language_info": {
   "codemirror_mode": {
    "name": "ipython",
    "version": 3
   },
   "file_extension": ".py",
   "mimetype": "text/x-python",
   "name": "python",
   "nbconvert_exporter": "python",
   "pygments_lexer": "ipython3",
   "version": "3.11.4"
  }
 },
 "nbformat": 4,
 "nbformat_minor": 5
}
