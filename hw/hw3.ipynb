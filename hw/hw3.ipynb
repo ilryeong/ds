{
 "cells": [
  {
   "cell_type": "markdown",
   "id": "a3e959a0-7ace-4319-b488-d4f893a02f4a",
   "metadata": {
    "tags": []
   },
   "source": [
    "## 202255005"
   ]
  },
  {
   "cell_type": "code",
   "execution_count": 1,
   "id": "6a5fde73-712f-4b97-bd2f-680fabb43895",
   "metadata": {
    "tags": []
   },
   "outputs": [],
   "source": [
    "hairstyles = [\"bouffant\", \"pixie\", \"dreadlocks\", \"crew\", \"bowl\", \"bob\", \"mohawk\", \"flattop\"]\n",
    "prices = [30, 25, 40, 20, 20, 35, 50, 35]\n",
    "last_week = [2, 3, 5, 8, 4, 4, 6, 2]"
   ]
  },
  {
   "cell_type": "code",
   "execution_count": 3,
   "id": "74ea7964-6a41-45f3-b7f5-b372169a239f",
   "metadata": {
    "tags": []
   },
   "outputs": [
    {
     "name": "stdout",
     "output_type": "stream",
     "text": [
      "Average price is  31.875\n"
     ]
    }
   ],
   "source": [
    "total_price = 0\n",
    "for i in prices :\n",
    "    total_price += i\n",
    "average_price = total_price /len(prices)\n",
    "print(\"Average price is \",average_price)"
   ]
  },
  {
   "cell_type": "code",
   "execution_count": 4,
   "id": "03457f0f-3432-4aa8-8ea8-5cb7133ad863",
   "metadata": {
    "tags": []
   },
   "outputs": [
    {
     "name": "stdout",
     "output_type": "stream",
     "text": [
      "[25, 20, 35, 15, 15, 30, 45, 30]\n"
     ]
    }
   ],
   "source": [
    "new_price = [price - 5 for price in prices]\n",
    "print(new_price)"
   ]
  },
  {
   "cell_type": "code",
   "execution_count": 5,
   "id": "0ff38b9b-7115-4dda-b04d-2cee52430856",
   "metadata": {
    "tags": []
   },
   "outputs": [
    {
     "name": "stdout",
     "output_type": "stream",
     "text": [
      "1085\n"
     ]
    }
   ],
   "source": [
    "total_revenue = 0\n",
    "\n",
    "for i in range(len(hairstyles)):\n",
    "    total_revenue += prices[i]*last_week[i]\n",
    "    \n",
    "print(total_revenue)"
   ]
  },
  {
   "cell_type": "code",
   "execution_count": 6,
   "id": "541c6ad2-5589-4b04-9876-3d1e769a84ab",
   "metadata": {
    "tags": []
   },
   "outputs": [
    {
     "name": "stdout",
     "output_type": "stream",
     "text": [
      "Average daily revenue is 155.0\n"
     ]
    }
   ],
   "source": [
    "average_daily_revenue = total_revenue/7\n",
    "print(\"Average daily revenue is\", average_daily_revenue)"
   ]
  },
  {
   "cell_type": "code",
   "execution_count": 7,
   "id": "fcf68527-a427-4f8f-a5c8-4a8bc6dcadb5",
   "metadata": {
    "tags": []
   },
   "outputs": [
    {
     "name": "stdout",
     "output_type": "stream",
     "text": [
      "['bouffant', 'pixie', 'crew', 'bowl']\n"
     ]
    }
   ],
   "source": [
    "cuts_under_30 = []\n",
    "\n",
    "for i in range(len(new_price)):\n",
    "    if new_price[i] < 30 :\n",
    "        cuts_under_30.append(hairstyles[i])\n",
    "        \n",
    "print(cuts_under_30)"
   ]
  },
  {
   "cell_type": "code",
   "execution_count": null,
   "id": "8e838d4b-c611-4bb0-9d2a-0f308a2e6dec",
   "metadata": {},
   "outputs": [],
   "source": []
  }
 ],
 "metadata": {
  "kernelspec": {
   "display_name": "Python 3 (ipykernel)",
   "language": "python",
   "name": "python3"
  },
  "language_info": {
   "codemirror_mode": {
    "name": "ipython",
    "version": 3
   },
   "file_extension": ".py",
   "mimetype": "text/x-python",
   "name": "python",
   "nbconvert_exporter": "python",
   "pygments_lexer": "ipython3",
   "version": "3.11.4"
  }
 },
 "nbformat": 4,
 "nbformat_minor": 5
}
